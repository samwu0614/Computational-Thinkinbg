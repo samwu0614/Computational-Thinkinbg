{
  "nbformat": 4,
  "nbformat_minor": 0,
  "metadata": {
    "colab": {
      "name": "week9-95-a108260087.ipynb",
      "provenance": [],
      "include_colab_link": true
    },
    "kernelspec": {
      "name": "python3",
      "display_name": "Python 3"
    }
  },
  "cells": [
    {
      "cell_type": "markdown",
      "metadata": {
        "id": "view-in-github",
        "colab_type": "text"
      },
      "source": [
        "<a href=\"https://colab.research.google.com/github/samwu0614/Computational-Thinking/blob/master/week9_95_a108260087.ipynb\" target=\"_parent\"><img src=\"https://colab.research.google.com/assets/colab-badge.svg\" alt=\"Open In Colab\"/></a>"
      ]
    },
    {
      "cell_type": "code",
      "metadata": {
        "id": "nIoKWXJDiOL2",
        "colab_type": "code",
        "outputId": "a263f716-7ce0-45dc-ece7-539d43bdf06a",
        "colab": {
          "base_uri": "https://localhost:8080/",
          "height": 51
        }
      },
      "source": [
        "score = int(input('請輸入一個成績?'))\n",
        "if score >= 60:\n",
        "  print('很好,請繼續保持下去')"
      ],
      "execution_count": 0,
      "outputs": [
        {
          "output_type": "stream",
          "text": [
            "請輸入一個成績?88\n",
            "很好,請繼續保持下去\n"
          ],
          "name": "stdout"
        }
      ]
    },
    {
      "cell_type": "code",
      "metadata": {
        "id": "QxCp5kd0ivj3",
        "colab_type": "code",
        "outputId": "04625e04-4eec-427f-f71c-5a2f62f60267",
        "colab": {
          "base_uri": "https://localhost:8080/",
          "height": 51
        }
      },
      "source": [
        "score = int(input('請輸入一個成績?'))\n",
        "if score >= 60:\n",
        "  print('有及格ㄡ~')\n",
        "else:\n",
        "  print('不及格ㄟ!')"
      ],
      "execution_count": 0,
      "outputs": [
        {
          "output_type": "stream",
          "text": [
            "請輸入一個成績?50\n",
            "不及格ㄟ!\n"
          ],
          "name": "stdout"
        }
      ]
    },
    {
      "cell_type": "code",
      "metadata": {
        "id": "c1Np9fYLjDJI",
        "colab_type": "code",
        "outputId": "abd178fd-4b5f-48c9-b0a7-6a5863d935cd",
        "colab": {
          "base_uri": "https://localhost:8080/",
          "height": 51
        }
      },
      "source": [
        "score = int(input('請輸入一個成績?'))\n",
        "if score >= 80:\n",
        "  print('非常好')\n",
        "elif score >= 60:\n",
        "  print('不錯喔')\n",
        "else:\n",
        "  print('要加油')"
      ],
      "execution_count": 0,
      "outputs": [
        {
          "output_type": "stream",
          "text": [
            "請輸入一個成績?66\n",
            "不錯喔\n"
          ],
          "name": "stdout"
        }
      ]
    },
    {
      "cell_type": "code",
      "metadata": {
        "id": "FK2bYOjAjtV4",
        "colab_type": "code",
        "outputId": "2e62fd12-68ce-4b29-f39d-4ef6a713e789",
        "colab": {
          "base_uri": "https://localhost:8080/",
          "height": 68
        }
      },
      "source": [
        "x = float(input('請輸入該點的X座標?')) \n",
        "y = float(input('請輸入該點的Y座標?'))\n",
        "\n",
        "if (x > 0):\n",
        " if (y > 0):\n",
        "  print('該點在第一象限') \n",
        " else:\n",
        "  print('該點在第四象限') \n",
        "else:\n",
        " if (y > 0):\n",
        "  print('該點在第二象限') \n",
        " else:\n",
        "  print('該點在第三象限')"
      ],
      "execution_count": 0,
      "outputs": [
        {
          "output_type": "stream",
          "text": [
            "請輸入該點的X座標?1\n",
            "請輸入該點的Y座標?1\n",
            "該點在第一象限\n"
          ],
          "name": "stdout"
        }
      ]
    },
    {
      "cell_type": "code",
      "metadata": {
        "id": "AgZP8hGMlU9U",
        "colab_type": "code",
        "outputId": "f985b8c6-05f3-4c5a-c0d1-7a61575faec6",
        "colab": {
          "base_uri": "https://localhost:8080/",
          "height": 51
        }
      },
      "source": [
        "cost = int(input('請輸入購買金額?'))\n",
        "if cost >= 2000:\n",
        "  print(cost * 0.9)\n",
        "else:\n",
        "  print(cost)"
      ],
      "execution_count": 0,
      "outputs": [
        {
          "output_type": "stream",
          "text": [
            "請輸入購買金額?2000\n",
            "1800.0\n"
          ],
          "name": "stdout"
        }
      ]
    },
    {
      "cell_type": "code",
      "metadata": {
        "id": "AvgMeyDGmMCR",
        "colab_type": "code",
        "outputId": "4d05c521-3cc2-4e15-ec14-d03627c4bfb9",
        "colab": {
          "base_uri": "https://localhost:8080/",
          "height": 51
        }
      },
      "source": [
        "num = int(input('請輸入一個整數?'))\n",
        "if num % 2 == 0: \n",
        "  print(num, '為偶數')\n",
        "else:\n",
        "  print(num, '為奇數')"
      ],
      "execution_count": 0,
      "outputs": [
        {
          "output_type": "stream",
          "text": [
            "請輸入一個整數?13\n",
            "13 為奇數\n"
          ],
          "name": "stdout"
        }
      ]
    },
    {
      "cell_type": "code",
      "metadata": {
        "id": "YDha87sHm6_4",
        "colab_type": "code",
        "colab": {}
      },
      "source": [
        ""
      ],
      "execution_count": 0,
      "outputs": []
    }
  ]
}