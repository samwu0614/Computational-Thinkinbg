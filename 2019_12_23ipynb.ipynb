{
  "nbformat": 4,
  "nbformat_minor": 0,
  "metadata": {
    "colab": {
      "name": "2019.12.23ipynb",
      "provenance": [],
      "include_colab_link": true
    },
    "kernelspec": {
      "name": "python3",
      "display_name": "Python 3"
    }
  },
  "cells": [
    {
      "cell_type": "markdown",
      "metadata": {
        "id": "view-in-github",
        "colab_type": "text"
      },
      "source": [
        "<a href=\"https://colab.research.google.com/github/samwu0614/Computational-Thinking/blob/master/2019_12_23ipynb.ipynb\" target=\"_parent\"><img src=\"https://colab.research.google.com/assets/colab-badge.svg\" alt=\"Open In Colab\"/></a>"
      ]
    },
    {
      "cell_type": "code",
      "metadata": {
        "id": "JfXBI7g2pukL",
        "colab_type": "code",
        "outputId": "885b6478-cac6-437f-83e7-a3f21aba8d9e",
        "colab": {
          "base_uri": "https://localhost:8080/",
          "height": 85
        }
      },
      "source": [
        "i = 1\n",
        "while(i < 7):\n",
        "    print(i)\n",
        "    if i == 4:\n",
        "       break\n",
        "    i = i + 1   "
      ],
      "execution_count": 0,
      "outputs": [
        {
          "output_type": "stream",
          "text": [
            "1\n",
            "2\n",
            "3\n",
            "4\n"
          ],
          "name": "stdout"
        }
      ]
    },
    {
      "cell_type": "code",
      "metadata": {
        "id": "BiogQdiYusnN",
        "colab_type": "code",
        "colab": {}
      },
      "source": [
        "i = 0\n"
      ],
      "execution_count": 0,
      "outputs": []
    },
    {
      "cell_type": "code",
      "metadata": {
        "id": "CtCXwudDxhJ9",
        "colab_type": "code",
        "outputId": "6ca314e8-1fa3-4f01-f598-3e0c467acbc1",
        "colab": {
          "base_uri": "https://localhost:8080/",
          "height": 85
        }
      },
      "source": [
        "answer = \"a123\"\n",
        "\n",
        "while True:\n",
        "    password = input(\"Enter your password\")\n",
        "    if password == answer:\n",
        "      print(\"ENTER THE STSTEM\")\n",
        "      break\n",
        "    else:\n",
        "      print(\"Try Again\")  \n"
      ],
      "execution_count": 0,
      "outputs": [
        {
          "output_type": "stream",
          "text": [
            "Enter your password0961552286\n",
            "Try Again\n",
            "Enter your passworda123\n",
            "ENTER THE STSTEM\n"
          ],
          "name": "stdout"
        }
      ]
    },
    {
      "cell_type": "code",
      "metadata": {
        "id": "TZs4opzHyyzh",
        "colab_type": "code",
        "outputId": "43158f17-d397-494e-abe8-09f427211c7c",
        "colab": {
          "base_uri": "https://localhost:8080/",
          "height": 119
        }
      },
      "source": [
        "while True:\n",
        "  acc = input(\"請輸入帳號?\")\n",
        "  pwd = input(\"請輸入密碼?\")\n",
        "  if (acc == \"abc\" and pwd ==\"123\"):\n",
        "    print(\"帳號與密碼正確\")\n",
        "    break\n",
        "  else:\n",
        "    print(\"登入失敗\")  "
      ],
      "execution_count": 0,
      "outputs": [
        {
          "output_type": "stream",
          "text": [
            "請輸入帳號?1\n",
            "請輸入密碼?1\n",
            "登入失敗\n",
            "請輸入帳號?abc\n",
            "請輸入密碼?123\n",
            "帳號與密碼正確\n"
          ],
          "name": "stdout"
        }
      ]
    },
    {
      "cell_type": "code",
      "metadata": {
        "id": "B1Efgskq31QB",
        "colab_type": "code",
        "outputId": "6ea8e887-221f-4a32-daaf-206bc4745ba3",
        "colab": {
          "base_uri": "https://localhost:8080/",
          "height": 204
        }
      },
      "source": [
        "range(5) #[0,1,2,3,4]\n",
        "range(2,5)#[2,3,4]\n",
        "range(2,10,3)#[2,5,8]\n",
        "\n",
        "for i in range(5):\n",
        "    print(i)\n",
        "\n",
        "for i in range(2,5):\n",
        "    print(i)\n",
        "\n",
        "for i in range(2,10,3):\n",
        "    print(i)   "
      ],
      "execution_count": 0,
      "outputs": [
        {
          "output_type": "stream",
          "text": [
            "0\n",
            "1\n",
            "2\n",
            "3\n",
            "4\n",
            "2\n",
            "3\n",
            "4\n",
            "2\n",
            "5\n",
            "8\n"
          ],
          "name": "stdout"
        }
      ]
    },
    {
      "cell_type": "code",
      "metadata": {
        "id": "D8fl9bnb6UcL",
        "colab_type": "code",
        "outputId": "46282cfe-437e-4f37-9bbc-c0b199f6dd81",
        "colab": {
          "base_uri": "https://localhost:8080/",
          "height": 136
        }
      },
      "source": [
        "start = int(input(\"Enter a number?\"))\n",
        "end = int(input(\"enter a number?\"))\n",
        "step = int(input(\"enter a number?\" ))\n",
        "\n",
        "sum = 0\n",
        "\n",
        "for i in range(start,end,step):\n",
        "    sum = sum + i\n",
        "    print(\"i is\",i,\"sum equals\",sum)"
      ],
      "execution_count": 0,
      "outputs": [
        {
          "output_type": "stream",
          "text": [
            "Enter a number?3\n",
            "enter a number?13\n",
            "enter a number?3\n",
            "i is 3 sum equals 3\n",
            "i is 6 sum equals 9\n",
            "i is 9 sum equals 18\n",
            "i is 12 sum equals 30\n"
          ],
          "name": "stdout"
        }
      ]
    }
  ]
}